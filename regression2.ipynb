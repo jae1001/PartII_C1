{
  "nbformat": 4,
  "nbformat_minor": 0,
  "metadata": {
    "colab": {
      "name": "Untitled1.ipynb",
      "provenance": [],
      "collapsed_sections": [],
      "authorship_tag": "ABX9TyN5e9J7CWGE7XrNo3OZwLfS",
      "include_colab_link": true
    },
    "kernelspec": {
      "name": "python3",
      "display_name": "Python 3"
    },
    "language_info": {
      "name": "python"
    }
  },
  "cells": [
    {
      "cell_type": "markdown",
      "metadata": {
        "id": "view-in-github",
        "colab_type": "text"
      },
      "source": [
        "<a href=\"https://colab.research.google.com/github/jae1001/PartII_C1/blob/main/regression2.ipynb\" target=\"_parent\"><img src=\"https://colab.research.google.com/assets/colab-badge.svg\" alt=\"Open In Colab\"/></a>"
      ]
    },
    {
      "cell_type": "markdown",
      "source": [
        "# Regression in Python using scipy package"
      ],
      "metadata": {
        "id": "J7NT4UQjhxI3"
      }
    },
    {
      "cell_type": "code",
      "execution_count": 68,
      "metadata": {
        "colab": {
          "base_uri": "https://localhost:8080/",
          "height": 585
        },
        "id": "eW_m3jhSgBhy",
        "outputId": "eb8321dd-f467-412f-b1b1-86bf7102c0d1"
      },
      "outputs": [
        {
          "output_type": "stream",
          "name": "stdout",
          "text": [
            "Parameter values 1 \n",
            "[  0.08007729  -0.80303695   3.02896701  -6.1571493    9.63273638\n",
            " -12.62802727   9.99976503]\n",
            "Parameter standard errors 1 \n",
            "[ 0.0890386   1.07229026  4.92351258 10.73349565 11.22006168  4.95850065\n",
            "  0.68079056]\n",
            "Parameter values 2 \n",
            "[9.05929798 1.09340231 0.45421602]\n",
            "Parameter standard errors 2\n",
            "[0.54726512 0.15927353 0.30582068]\n"
          ]
        },
        {
          "output_type": "display_data",
          "data": {
            "image/png": "[encoded data removed]",
            "text/plain": [
              "<Figure size 432x288 with 1 Axes>"
            ]
          },
          "metadata": {}
        },
        {
          "output_type": "stream",
          "name": "stdout",
          "text": [
            "R^2 (coefficient of variation)\n",
            "0.9032393937920391\n",
            "Reduced chi-squared\n",
            "0.7536619384528686\n",
            "R^2 (coefficient of variation)\n",
            "0.8619575613157339\n",
            "Reduced chi-squared\n",
            "0.9817074441219369\n"
          ]
        }
      ],
      "source": [
        "import numpy as np\n",
        "from scipy.optimize import curve_fit\n",
        "import matplotlib.pyplot as plt\n",
        "\n",
        "# Define fitting functions\n",
        "def edecay(x, a, b, c):\n",
        "  return a*np.exp(-b*x) + c\n",
        "def linear(x, a, b):\n",
        "  return a*x + b\n",
        "def quadratic(x, a, b, c):\n",
        "  return a*x**2 + b*x + c\n",
        "def cubic(x, a, b, c, d):\n",
        "  return a*x**3 + b*x**2 + c*x + d\n",
        "def sextic(x, a, b, c, d, e, f, g):\n",
        "  return a*x**6 + b*x**5 + c*x**4 + d*x**3 + e*x**2 + f*x + g\n",
        "\n",
        "# Generate some noisy data\n",
        "xdata = np.linspace(0, 4, 50)\n",
        "std_err = 1.0  # standard errror in y (fixed)\n",
        "y = edecay(xdata, 10, 1.3, 0.5)\n",
        "#y = linear(xdata, 1, 3)\n",
        "ydata = y + std_err * np.random.normal(size=len(xdata))\n",
        "\n",
        "# Fit function to data\n",
        "popt1, pcov1 = curve_fit(sextic, xdata, ydata)\n",
        "perr1 = np.sqrt(np.diag(pcov1))\n",
        "y1model = sextic(xdata,popt1[0],popt1[1],popt1[2],popt1[3],popt1[4],popt1[5],popt1[6])\n",
        "\n",
        "popt2, pcov2 = curve_fit(edecay, xdata, ydata)\n",
        "perr2 = np.sqrt(np.diag(pcov2))\n",
        "y2model = edecay(xdata,popt2[0],popt2[1],popt2[2])\n",
        "\n",
        "# Print parameters and standard errors\n",
        "print(\"Parameter values 1 \")\n",
        "print(popt1)\n",
        "print(\"Parameter standard errors 1 \")\n",
        "print(perr1)\n",
        "\n",
        "print(\"Parameter values 2 \")\n",
        "print(popt2)\n",
        "print(\"Parameter standard errors 2\")\n",
        "print(perr2)\n",
        "\n",
        "\n",
        "# Plot data and fitted model\n",
        "plt.scatter(xdata, ydata, color=\"black\")\n",
        "plt.plot(xdata, y1model, color=\"blue\", linewidth=3)\n",
        "plt.plot(xdata, y2model, color=\"red\", linewidth=3)\n",
        "\n",
        "plt.xticks(())\n",
        "plt.yticks(())\n",
        "\n",
        "plt.show()\n",
        "\n",
        "# Goodness-of-fit statistics\n",
        "residuals = ydata - y1model\n",
        "ss_res = np.sum(residuals**2)\n",
        "ss_tot = np.sum((ydata-np.mean(ydata))**2)\n",
        "r_squared = 1 - (ss_res / ss_tot)\n",
        "\n",
        "print(\"R^2 (coefficient of variation)\")\n",
        "print(r_squared)\n",
        "\n",
        "dof = len(xdata)-len(popt1)-1\n",
        "red_chi2 = ss_res/((std_err**2)*dof)\n",
        "\n",
        "print(\"Reduced chi-squared\")\n",
        "print(red_chi2)\n",
        "\n",
        "\n",
        "# Goodness-of-fit statistics\n",
        "residuals = ydata - y2model\n",
        "ss_res = np.sum(residuals**2)\n",
        "ss_tot = np.sum((ydata-np.mean(ydata))**2)\n",
        "r_squared = 1 - (ss_res / ss_tot)\n",
        "\n",
        "print(\"R^2 (coefficient of variation)\")\n",
        "print(r_squared)\n",
        "\n",
        "dof = len(xdata)-len(popt2)-1\n",
        "red_chi2 = ss_res/((std_err**2)*dof)\n",
        "\n",
        "print(\"Reduced chi-squared\")\n",
        "print(red_chi2)\n",
        "\n",
        "\n"
      ]
    }
  ]
}