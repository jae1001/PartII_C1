{
  "nbformat": 4,
  "nbformat_minor": 0,
  "metadata": {
    "colab": {
      "name": "Untitled1.ipynb",
      "provenance": [],
      "collapsed_sections": [],
      "authorship_tag": "ABX9TyMQ8GLdnRPw4pf++z8cAEox",
      "include_colab_link": true
    },
    "kernelspec": {
      "name": "python3",
      "display_name": "Python 3"
    },
    "language_info": {
      "name": "python"
    }
  },
  "cells": [
    {
      "cell_type": "markdown",
      "metadata": {
        "id": "view-in-github",
        "colab_type": "text"
      },
      "source": [
        "<a href=\"https://colab.research.google.com/github/jae1001/PartII_C1/blob/main/regression.ipynb\" target=\"_parent\"><img src=\"https://colab.research.google.com/assets/colab-badge.svg\" alt=\"Open In Colab\"/></a>"
      ]
    },
    {
      "cell_type": "markdown",
      "source": [
        "# Regression in Python using scipy package"
      ],
      "metadata": {
        "id": "J7NT4UQjhxI3"
      }
    },
    {
      "cell_type": "code",
      "execution_count": 15,
      "metadata": {
        "colab": {
          "base_uri": "https://localhost:8080/",
          "height": 289
        },
        "id": "eW_m3jhSgBhy",
        "outputId": "81a26838-2068-4bf0-c8e4-6b3cea57e676"
      },
      "outputs": [
        {
          "output_type": "stream",
          "name": "stdout",
          "text": [
            "[1.02262575 2.94318354]\n",
            "[0.02081819 0.04832223]\n"
          ]
        },
        {
          "output_type": "display_data",
          "data": {
            "image/png": "[encoded data removed]",
            "text/plain": [
              "<Figure size 432x288 with 1 Axes>"
            ]
          },
          "metadata": {}
        }
      ],
      "source": [
        "import numpy as np\n",
        "from scipy.optimize import curve_fit\n",
        "import matplotlib.pyplot as plt\n",
        "\n",
        "# Define fitting function\n",
        "def edecay(x, a, b, c):\n",
        "  return a * np.exp(-b * x) + c\n",
        "def linear(x, a, b):\n",
        "  return a * x + b\n",
        "\n",
        "# Generate some noisy data\n",
        "xdata = np.linspace(0, 4, 50)\n",
        "#y = func(xdata, 1, 1.3, 0.5)\n",
        "y = linear(xdata, 1, 3)\n",
        "ydata = y + 0.2 * np.random.normal(size=len(xdata))\n",
        "\n",
        "# Fit function to data\n",
        "popt, pcov = curve_fit(linear, xdata, ydata)\n",
        "perr = np.sqrt(np.diag(pcov))\n",
        "\n",
        "# Print parameters and standard errors\n",
        "print(popt)\n",
        "print(perr)\n",
        "\n",
        "# Plot outputs\n",
        "plt.scatter(xdata, ydata, color=\"black\")\n",
        "plt.plot(xdata, y, color=\"blue\", linewidth=3)\n",
        "\n",
        "plt.xticks(())\n",
        "plt.yticks(())\n",
        "\n",
        "plt.show()\n"
      ]
    }
  ]
}