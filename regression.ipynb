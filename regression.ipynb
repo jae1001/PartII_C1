{
  "nbformat": 4,
  "nbformat_minor": 0,
  "metadata": {
    "colab": {
      "name": "Untitled1.ipynb",
      "provenance": [],
      "collapsed_sections": [],
      "authorship_tag": "ABX9TyNCcHLemE0fvhqKWmdnF5O7",
      "include_colab_link": true
    },
    "kernelspec": {
      "name": "python3",
      "display_name": "Python 3"
    },
    "language_info": {
      "name": "python"
    }
  },
  "cells": [
    {
      "cell_type": "markdown",
      "metadata": {
        "id": "view-in-github",
        "colab_type": "text"
      },
      "source": [
        "<a href=\"https://colab.research.google.com/github/jae1001/PartII_C1/blob/main/regression.ipynb\" target=\"_parent\"><img src=\"https://colab.research.google.com/assets/colab-badge.svg\" alt=\"Open In Colab\"/></a>"
      ]
    },
    {
      "cell_type": "markdown",
      "source": [
        "# Regression in Python using scipy package"
      ],
      "metadata": {
        "id": "J7NT4UQjhxI3"
      }
    },
    {
      "cell_type": "code",
      "execution_count": 73,
      "metadata": {
        "colab": {
          "base_uri": "https://localhost:8080/",
          "height": 400
        },
        "id": "eW_m3jhSgBhy",
        "outputId": "2519632f-3295-42af-ec81-66bcf759b49a"
      },
      "outputs": [
        {
          "output_type": "stream",
          "name": "stdout",
          "text": [
            "Parameter values\n",
            "[9.61763609 1.22380039 0.03278043]\n",
            "Parameter standard errors\n",
            "[0.57863418 0.16558433 0.27695979]\n"
          ]
        },
        {
          "output_type": "display_data",
          "data": {
            "image/png": "[encoded data removed]",
            "text/plain": [
              "<Figure size 432x288 with 1 Axes>"
            ]
          },
          "metadata": {}
        },
        {
          "output_type": "stream",
          "name": "stdout",
          "text": [
            "R^2 (coefficient of variation)\n",
            "0.8684515387656843\n",
            "Reduced chi-squared\n",
            "1.0168907134607728\n"
          ]
        }
      ],
      "source": [
        "import numpy as np\n",
        "from scipy.optimize import curve_fit\n",
        "import matplotlib.pyplot as plt\n",
        "\n",
        "# Define fitting functions\n",
        "def edecay(x, a, b, c):\n",
        "  return a*np.exp(-b*x) + c\n",
        "def linear(x, a, b):\n",
        "  return a*x + b\n",
        "def quadratic(x, a, b, c):\n",
        "  return a*x**2 + b*x + c\n",
        "def cubic(x, a, b, c, d):\n",
        "  return a*x**3 + b*x**2 + c*x + d\n",
        "def sextic(x, a, b, c, d, e, f, g):\n",
        "  return a*x**6 + b*x**5 + c*x**4 + d*x**3 + e*x**2 + f*x + g\n",
        "\n",
        "# Generate some noisy data\n",
        "xdata = np.linspace(0, 4, 50)\n",
        "std_err = 1.0  # standard errror in y (fixed)\n",
        "y = edecay(xdata, 10, 1.3, 0.5)\n",
        "#y = linear(xdata, 1, 3)\n",
        "ydata = y + std_err * np.random.normal(size=len(xdata))\n",
        "\n",
        "# Fit function to data\n",
        "popt, pcov = curve_fit(edecay, xdata, ydata)\n",
        "perr = np.sqrt(np.diag(pcov))\n",
        "ymodel = edecay(xdata,popt[0],popt[1],popt[2])\n",
        "\n",
        "# Print parameters and standard errors\n",
        "print(\"Parameter values\")\n",
        "print(popt)\n",
        "print(\"Parameter standard errors\")\n",
        "print(perr)\n",
        "\n",
        "# Plot data and fitted model\n",
        "plt.scatter(xdata, ydata, color=\"black\")\n",
        "plt.plot(xdata, ymodel, color=\"blue\", linewidth=3)\n",
        "\n",
        "plt.xticks(())\n",
        "plt.yticks(())\n",
        "\n",
        "plt.show()\n",
        "\n",
        "# Goodness-of-fit statistics\n",
        "residuals = ydata - ymodel\n",
        "ss_res = np.sum(residuals**2)\n",
        "ss_tot = np.sum((ydata-np.mean(ydata))**2)\n",
        "r_squared = 1 - (ss_res / ss_tot)\n",
        "\n",
        "print(\"R^2 (coefficient of variation)\")\n",
        "print(r_squared)\n",
        "\n",
        "dof = len(xdata)-len(popt)-1\n",
        "red_chi = ss_res/((std_err**2)*dof)\n",
        "\n",
        "print(\"Reduced chi-squared\")\n",
        "print(red_chi)\n"
      ]
    }
  ]
}