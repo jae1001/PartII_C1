{
  "nbformat": 4,
  "nbformat_minor": 0,
  "metadata": {
    "colab": {
      "name": "Untitled0.ipynb",
      "provenance": [],
      "collapsed_sections": [],
      "authorship_tag": "ABX9TyMQqroYJunsefHvL/YTL0nP",
      "include_colab_link": true
    },
    "kernelspec": {
      "name": "python3",
      "display_name": "Python 3"
    },
    "language_info": {
      "name": "python"
    }
  },
  "cells": [
    {
      "cell_type": "markdown",
      "metadata": {
        "id": "view-in-github",
        "colab_type": "text"
      },
      "source": [
        "<a href=\"https://colab.research.google.com/github/jae1001/PartII_C1/blob/main/regression.ipynb\" target=\"_parent\"><img src=\"https://colab.research.google.com/assets/colab-badge.svg\" alt=\"Open In Colab\"/></a>"
      ]
    },
    {
      "cell_type": "markdown",
      "source": [
        "Linear regression with Python (via sklearn package)\n"
      ],
      "metadata": {
        "id": "fQ0bTbx-UCsI"
      }
    },
    {
      "cell_type": "code",
      "execution_count": 3,
      "metadata": {
        "colab": {
          "base_uri": "https://localhost:8080/",
          "height": 246
        },
        "id": "FSJWNt8OTsEo",
        "outputId": "6ef40949-4e1a-483d-8f74-ba9de23c8992"
      },
      "outputs": [
        {
          "output_type": "error",
          "ename": "FileNotFoundError",
          "evalue": "ignored",
          "traceback": [
            "\u001b[0;31m---------------------------------------------------------------------------\u001b[0m",
            "\u001b[0;31mFileNotFoundError\u001b[0m                         Traceback (most recent call last)",
            "\u001b[0;32m<ipython-input-3-ecf4e763c99b>\u001b[0m in \u001b[0;36m<module>\u001b[0;34m()\u001b[0m\n\u001b[1;32m     14\u001b[0m \u001b[0;34m\u001b[0m\u001b[0m\n\u001b[1;32m     15\u001b[0m \u001b[0;31m#Import CSV Data\u001b[0m\u001b[0;34m\u001b[0m\u001b[0;34m\u001b[0m\u001b[0;34m\u001b[0m\u001b[0m\n\u001b[0;32m---> 16\u001b[0;31m \u001b[0;32mwith\u001b[0m \u001b[0mopen\u001b[0m\u001b[0;34m(\u001b[0m\u001b[0;34m\"data.csv\"\u001b[0m\u001b[0;34m,\u001b[0m\u001b[0;34m'r'\u001b[0m\u001b[0;34m)\u001b[0m \u001b[0;32mas\u001b[0m \u001b[0mi\u001b[0m\u001b[0;34m:\u001b[0m           \u001b[0;31m#open a file in directory of this script for reading\u001b[0m\u001b[0;34m\u001b[0m\u001b[0;34m\u001b[0m\u001b[0m\n\u001b[0m\u001b[1;32m     17\u001b[0m     \u001b[0mrawdata\u001b[0m \u001b[0;34m=\u001b[0m \u001b[0mlist\u001b[0m\u001b[0;34m(\u001b[0m\u001b[0mcsv\u001b[0m\u001b[0;34m.\u001b[0m\u001b[0mreader\u001b[0m\u001b[0;34m(\u001b[0m\u001b[0mi\u001b[0m\u001b[0;34m,\u001b[0m\u001b[0mdelimiter\u001b[0m\u001b[0;34m=\u001b[0m\u001b[0;34m\",\"\u001b[0m\u001b[0;34m)\u001b[0m\u001b[0;34m)\u001b[0m   \u001b[0;31m#make a list of data in file\u001b[0m\u001b[0;34m\u001b[0m\u001b[0;34m\u001b[0m\u001b[0m\n\u001b[1;32m     18\u001b[0m \u001b[0;34m\u001b[0m\u001b[0m\n",
            "\u001b[0;31mFileNotFoundError\u001b[0m: [Errno 2] No such file or directory: 'data.csv'"
          ]
        }
      ],
      "source": [
        "# -*- coding: utf-8 -*-\n",
        "\"\"\"\n",
        "Created on Fri Aug 28 17:06:38 2020\n",
        "\n",
        "@author: Prof. Hages\n",
        "\"\"\"\n",
        "\n",
        "#import libraries\n",
        "import numpy as np\n",
        "import csv\n",
        "import matplotlib.pylab as plt\n",
        "from scipy.optimize import curve_fit\n",
        "from scipy import integrate as intg\n",
        "\n",
        "#Import CSV Data\n",
        "with open(\"data.csv\",'r') as i:           #open a file in directory of this script for reading \n",
        "    rawdata = list(csv.reader(i,delimiter=\",\"))   #make a list of data in file\n",
        "    \n",
        "exampledata = np.array(rawdata[1:],dtype=np.float)    #convert to data array\n",
        "xdata = exampledata[:,0]\n",
        "ydata = exampledata[:,1]\n",
        "\n",
        "#Plot the Data \n",
        "plt.figure(1,dpi=120)\n",
        "plt.yscale('linear')\n",
        "plt.xscale('linear')\n",
        "#plt.xlim(0,4)\n",
        "#plt.ylim(0,2.5)\n",
        "plt.title(\"Example Data\")\n",
        "plt.xlabel(rawdata[0][0])\n",
        "plt.ylabel(rawdata[0][1])\n",
        "plt.plot(xdata,ydata,label=\"Experimental Data\")\n",
        "\n",
        "#Define Function\n",
        "def func(x,b):                                   #input x in nm and b in nm^-1\n",
        "    return a0 * np.exp(-b * x) + a1\n",
        "\n",
        "#Define Constants\n",
        "a0 = 2.5    #W m^-2 nm^-1\n",
        "a1 = 0.5    #W m^-2 nm^-1\n",
        "\n",
        "funcdata = func(xdata,1.375)                 #Generate & Plot data for comparison\n",
        "plt.plot(xdata,funcdata,label=\"Model\")   \n",
        "plt.legend()\n",
        "\n",
        "#Curve fit data to model\n",
        "popt, pcov = curve_fit(func,xdata,ydata,bounds=(0,4))\n",
        "perr = np.sqrt(np.diag(pcov))\n",
        "\n",
        "#Integrals\n",
        "TotalInt = intg.trapz(ydata,xdata)                     #Compute numerical integral\n",
        "TotalInt_func = intg.quad(func,0,4, args=(1.375))[0]        #Compute integral of function\n",
        "low_Frac = intg.quad(func,0,2, args=(1.375))[0]/TotalInt_func\n",
        "high_Frac = intg.quad(func,2,4, args=(1.375))[0]/TotalInt_func"
      ]
    }
  ]
}